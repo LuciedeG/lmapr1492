{
 "cells": [
  {
   "cell_type": "markdown",
   "id": "1c6a6b1b",
   "metadata": {},
   "source": [
    "<br> <font size=7 color=#009999> <b> Tâche 6 - Symmetry </b> <br><br>"
   ]
  },
  {
   "cell_type": "markdown",
   "id": "125e3250",
   "metadata": {},
   "source": [
    "<font size=6 color=#009999> <br> Imports <br> <br>"
   ]
  },
  {
   "cell_type": "code",
   "execution_count": 1,
   "id": "3cd6646f",
   "metadata": {},
   "outputs": [],
   "source": [
    "from pymatgen.core import Lattice, Structure, Molecule\n",
    "from pymatgen.symmetry.analyzer import SpacegroupAnalyzer\n",
    "from jupyter_jsmol import JsmolView\n",
    "from ipywidgets import Layout, widgets, interact\n",
    "from IPython.display import display\n",
    "from jupyter_jsmol.pymatgen import quick_view\n",
    "from pymatgen.ext.matproj import MPRester"
   ]
  },
  {
   "cell_type": "markdown",
   "id": "8b8d58c7",
   "metadata": {},
   "source": [
    "<font size=6 color=#009999> <br> Téléchargement du fichier CIF du matériau mp-867168 ($Sr_2SbAu$) <br> <br>"
   ]
  },
  {
   "cell_type": "code",
   "execution_count": 2,
   "id": "bb0828fa",
   "metadata": {},
   "outputs": [],
   "source": [
    "with MPRester(\"V4zgRFcb4T97MTrH\") as m:\n",
    "    structure = m.get_structure_by_material_id(\"mp-867168\")"
   ]
  },
  {
   "cell_type": "markdown",
   "id": "748602e9",
   "metadata": {},
   "source": [
    "<font size=6 color=#009999> <br> Opérations de symétrie <br> <br>"
   ]
  },
  {
   "cell_type": "code",
   "execution_count": 3,
   "id": "ce1964f7",
   "metadata": {
    "scrolled": false
   },
   "outputs": [
    {
     "data": {
      "application/vnd.jupyter.widget-view+json": {
       "model_id": "9c035df6f9954828944b4b1670ddcb3c",
       "version_major": 2,
       "version_minor": 0
      },
      "text/plain": [
       "JsmolView(layout=Layout(align_self='stretch', height='400px'))"
      ]
     },
     "metadata": {},
     "output_type": "display_data"
    }
   ],
   "source": [
    "view = quick_view(structure, conventional=True)\n",
    "display(view)\n",
    "view.script(\"select all; label on\")"
   ]
  },
  {
   "cell_type": "markdown",
   "id": "27fb1d6a",
   "metadata": {},
   "source": [
    "Cette illustration montre le numéro de chaque atome."
   ]
  },
  {
   "cell_type": "markdown",
   "id": "3023faed",
   "metadata": {},
   "source": [
    "<font size=5 color=#009999> <br> 1. Réflexion par rapport à un plan miroir <br> <br>"
   ]
  },
  {
   "cell_type": "code",
   "execution_count": 4,
   "id": "588ae891",
   "metadata": {
    "scrolled": true
   },
   "outputs": [
    {
     "data": {
      "application/vnd.jupyter.widget-view+json": {
       "model_id": "a0a225c038114c479da908358b20bfc5",
       "version_major": 2,
       "version_minor": 0
      },
      "text/plain": [
       "JsmolView(layout=Layout(align_self='stretch', height='400px'))"
      ]
     },
     "metadata": {},
     "output_type": "display_data"
    }
   ],
   "source": [
    "## Opération numéro 6\n",
    "view1 = quick_view(structure, conventional=True)\n",
    "display(view1)\n",
    "view1.script('draw SYMOP {atomno=1} {atomno=15}')"
   ]
  },
  {
   "cell_type": "markdown",
   "id": "912cad3e",
   "metadata": {},
   "source": [
    "Cette illustration montre l'atome d'or numéro 1 subit une réflexion par rapport à un plan miroir vers l'atome d'or numéro 15 (que l'on peut aussi décrire comme une roto-inversion d'ordre 2). On voit que cette réflexion est décrite par $(x,y,z) \\leftarrow (x,y,-z)$."
   ]
  },
  {
   "cell_type": "markdown",
   "id": "0a47d62c",
   "metadata": {},
   "source": [
    "<font size=5 color=#009999> <br> 2. Rotation hélicoidale <br> <br>"
   ]
  },
  {
   "cell_type": "code",
   "execution_count": 5,
   "id": "444c21e2",
   "metadata": {},
   "outputs": [
    {
     "data": {
      "application/vnd.jupyter.widget-view+json": {
       "model_id": "4360742066414f418a71bbea7706ae71",
       "version_major": 2,
       "version_minor": 0
      },
      "text/plain": [
       "JsmolView(layout=Layout(align_self='stretch', height='400px'))"
      ]
     },
     "metadata": {},
     "output_type": "display_data"
    }
   ],
   "source": [
    "## Opération numéro 129\n",
    "view2 = quick_view(structure, conventional=True)\n",
    "display(view2)\n",
    "view2.script('draw SYMOP \"y+1/2,z,x+1/2\"{atomno=18}')"
   ]
  },
  {
   "cell_type": "markdown",
   "id": "347fe6a2",
   "metadata": {},
   "source": [
    "Cette illustration montre l'atome d'antimoine numéro 12 subit une rotation hélicoidale vers l'atome d'antimoine numéro 32. On voit que cette réflexion est décrite par $(x,y,z) \\leftarrow (y+1/2,z,x+1/2)$."
   ]
  },
  {
   "cell_type": "markdown",
   "id": "84c40737",
   "metadata": {},
   "source": [
    "<font size=5 color=#009999> <br> 3. Réflexion avec glissement <br> <br>"
   ]
  },
  {
   "cell_type": "code",
   "execution_count": 6,
   "id": "74f41aa3",
   "metadata": {},
   "outputs": [
    {
     "data": {
      "application/vnd.jupyter.widget-view+json": {
       "model_id": "4a67286b20de49719aabb9061986876b",
       "version_major": 2,
       "version_minor": 0
      },
      "text/plain": [
       "JsmolView(layout=Layout(align_self='stretch', height='400px'))"
      ]
     },
     "metadata": {},
     "output_type": "display_data"
    }
   ],
   "source": [
    "## Opération numéro 172\n",
    "view3 = quick_view(structure, conventional=True)\n",
    "display(view3)\n",
    "view3.script('draw SYMOP \"z,y+1/2,x+1/2\" {atomno=1}')"
   ]
  },
  {
   "cell_type": "markdown",
   "id": "2ff35c0f",
   "metadata": {},
   "source": [
    "Cette illustration montre l'atome de strontium numéro 0 subit une réflexion avec glissement vers l'atome de strontium numéro 10. On voit que cette réflexion est décrite par $(x,y,z) \\leftarrow (z,y+1/2,x+1/2)$."
   ]
  },
  {
   "cell_type": "code",
   "execution_count": null,
   "id": "0db7a9cc",
   "metadata": {},
   "outputs": [],
   "source": []
  }
 ],
 "metadata": {
  "kernelspec": {
   "display_name": "Python 3",
   "language": "python",
   "name": "python3"
  },
  "language_info": {
   "codemirror_mode": {
    "name": "ipython",
    "version": 3
   },
   "file_extension": ".py",
   "mimetype": "text/x-python",
   "name": "python",
   "nbconvert_exporter": "python",
   "pygments_lexer": "ipython3",
   "version": "3.6.8"
  }
 },
 "nbformat": 4,
 "nbformat_minor": 5
}
