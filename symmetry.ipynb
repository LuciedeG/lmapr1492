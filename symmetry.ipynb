{
 "cells": [
  {
   "cell_type": "code",
   "execution_count": 1,
   "id": "3cd6646f",
   "metadata": {},
   "outputs": [],
   "source": [
    "from pymatgen.core import Lattice, Structure, Molecule\n",
    "from pymatgen.symmetry.analyzer import SpacegroupAnalyzer\n",
    "from jupyter_jsmol import JsmolView\n",
    "from ipywidgets import Layout, widgets, interact\n",
    "from IPython.display import display\n",
    "from jupyter_jsmol.pymatgen import quick_view\n",
    "from pymatgen.ext.matproj import MPRester"
   ]
  },
  {
   "cell_type": "code",
   "execution_count": 2,
   "id": "bb0828fa",
   "metadata": {},
   "outputs": [],
   "source": [
    "with MPRester(\"V4zgRFcb4T97MTrH\") as m:\n",
    "    structure = m.get_structure_by_material_id(\"mp-867168\")"
   ]
  },
  {
   "cell_type": "code",
   "execution_count": 3,
   "id": "ce1964f7",
   "metadata": {
    "scrolled": true
   },
   "outputs": [
    {
     "data": {
      "application/vnd.jupyter.widget-view+json": {
       "model_id": "b4d737d105b6499f8db6bc65c3e536bd",
       "version_major": 2,
       "version_minor": 0
      },
      "text/plain": [
       "JsmolView(layout=Layout(align_self='stretch', height='400px'))"
      ]
     },
     "metadata": {},
     "output_type": "display_data"
    }
   ],
   "source": [
    "view = quick_view(structure, conventional=True)\n",
    "display(view)\n",
    "view.script(\"select all; label on\")"
   ]
  },
  {
   "cell_type": "code",
   "execution_count": 4,
   "id": "588ae891",
   "metadata": {
    "scrolled": true
   },
   "outputs": [
    {
     "data": {
      "application/vnd.jupyter.widget-view+json": {
       "model_id": "0018ba73635c4667aaea13848dfc1527",
       "version_major": 2,
       "version_minor": 0
      },
      "text/plain": [
       "JsmolView(layout=Layout(align_self='stretch', height='400px'))"
      ]
     },
     "metadata": {},
     "output_type": "display_data"
    }
   ],
   "source": [
    "## 12: mirror plane from atom 12 with equation \"y,x,z\"\n",
    "view1 = quick_view(structure, conventional=True)\n",
    "display(view1)\n",
    "view1.script('draw SYMOP \"y,x,z\" {atomno=12}')"
   ]
  },
  {
   "cell_type": "code",
   "execution_count": 5,
   "id": "444c21e2",
   "metadata": {
    "scrolled": true
   },
   "outputs": [
    {
     "data": {
      "application/vnd.jupyter.widget-view+json": {
       "model_id": "8a00f53cad444aa3b08884f5040e7302",
       "version_major": 2,
       "version_minor": 0
      },
      "text/plain": [
       "JsmolView(layout=Layout(align_self='stretch', height='400px'))"
      ]
     },
     "metadata": {},
     "output_type": "display_data"
    }
   ],
   "source": [
    "## 129: 3-Fold Screw axis/translation from atom 18 with equation \"y+1,z,x+1\"\n",
    "view2 = quick_view(structure, conventional=True)\n",
    "display(view2)\n",
    "view2.script('draw SYMOP \"y+1/2,z,x+1/2\"{atomno=18}')"
   ]
  },
  {
   "cell_type": "code",
   "execution_count": 6,
   "id": "74f41aa3",
   "metadata": {},
   "outputs": [
    {
     "data": {
      "application/vnd.jupyter.widget-view+json": {
       "model_id": "df12da2adf134c72931c923abd798754",
       "version_major": 2,
       "version_minor": 0
      },
      "text/plain": [
       "JsmolView(layout=Layout(align_self='stretch', height='400px'))"
      ]
     },
     "metadata": {},
     "output_type": "display_data"
    }
   ],
   "source": [
    "## 172: g-glide plane/translation from atom 1 with equation \"z,y+1/2,x+1/2\"\n",
    "view3 = quick_view(structure, conventional=True)\n",
    "display(view3)\n",
    "view3.script('draw SYMOP \"z,y+1/2,x+1/2\" {atomno=1}')"
   ]
  },
  {
   "cell_type": "code",
   "execution_count": null,
   "id": "6b5ab859",
   "metadata": {},
   "outputs": [],
   "source": []
  },
  {
   "cell_type": "code",
   "execution_count": null,
   "id": "03c905ed",
   "metadata": {},
   "outputs": [],
   "source": []
  }
 ],
 "metadata": {
  "kernelspec": {
   "display_name": "Python 3",
   "language": "python",
   "name": "python3"
  },
  "language_info": {
   "codemirror_mode": {
    "name": "ipython",
    "version": 3
   },
   "file_extension": ".py",
   "mimetype": "text/x-python",
   "name": "python",
   "nbconvert_exporter": "python",
   "pygments_lexer": "ipython3",
   "version": "3.6.8"
  }
 },
 "nbformat": 4,
 "nbformat_minor": 5
}
