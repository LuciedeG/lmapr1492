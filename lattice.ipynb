{
 "cells": [
  {
   "cell_type": "code",
   "execution_count": 1,
   "id": "c36d9c03",
   "metadata": {},
   "outputs": [],
   "source": [
    "from pymatgen.core import Lattice, Structure, Molecule\n",
    "from pymatgen.symmetry.analyzer import SpacegroupAnalyzer"
   ]
  },
  {
   "cell_type": "code",
   "execution_count": 2,
   "id": "0aa0e8c5",
   "metadata": {},
   "outputs": [],
   "source": [
    "structure = Structure.from_file(\"mp-867168.cif\")\n",
    "sga = SpacegroupAnalyzer(structure)"
   ]
  },
  {
   "cell_type": "code",
   "execution_count": 3,
   "id": "555ab757",
   "metadata": {},
   "outputs": [
    {
     "data": {
      "text/plain": [
       "Lattice\n",
       "    abc : 7.936346 7.936346 7.936346\n",
       " angles : 90.0 90.0 90.0\n",
       " volume : 499.875418045888\n",
       "      A : 7.936346 0.0 4.85961036291295e-16\n",
       "      B : 1.2762617758270576e-15 7.936346 4.85961036291295e-16\n",
       "      C : 0.0 0.0 7.936346"
      ]
     },
     "execution_count": 3,
     "metadata": {},
     "output_type": "execute_result"
    }
   ],
   "source": [
    "##Vecteurs de base du réseau direct\n",
    "structure.lattice"
   ]
  },
  {
   "cell_type": "code",
   "execution_count": 4,
   "id": "8222134d",
   "metadata": {},
   "outputs": [
    {
     "data": {
      "text/plain": [
       "Lattice\n",
       "    abc : 0.7916975025004688 0.7916975025004688 0.7916975025004688\n",
       " angles : 90.00000000000001 90.00000000000001 90.00000000000001\n",
       " volume : 0.49622406801293784\n",
       "      A : 0.7916975025004688 -1.2731466854634293e-16 0.0\n",
       "      B : 0.0 0.7916975025004688 0.0\n",
       "      C : -4.847749061650764e-17 -4.847749061650763e-17 0.7916975025004688"
      ]
     },
     "execution_count": 4,
     "metadata": {},
     "output_type": "execute_result"
    }
   ],
   "source": [
    "##Vecteurs de base du réseau réciproque\n",
    "structure.lattice.reciprocal_lattice"
   ]
  },
  {
   "cell_type": "code",
   "execution_count": 5,
   "id": "a7ff9c6f",
   "metadata": {},
   "outputs": [
    {
     "data": {
      "text/plain": [
       "'cubic'"
      ]
     },
     "execution_count": 5,
     "metadata": {},
     "output_type": "execute_result"
    }
   ],
   "source": [
    "##Type de maille\n",
    "sga.get_lattice_type()"
   ]
  },
  {
   "cell_type": "code",
   "execution_count": 6,
   "id": "dd4b6d29",
   "metadata": {},
   "outputs": [
    {
     "data": {
      "text/plain": [
       "'cubic'"
      ]
     },
     "execution_count": 6,
     "metadata": {},
     "output_type": "execute_result"
    }
   ],
   "source": [
    "##Système cristallin\n",
    "sga.get_crystal_system()"
   ]
  },
  {
   "cell_type": "code",
   "execution_count": 7,
   "id": "01abc2e7",
   "metadata": {},
   "outputs": [
    {
     "data": {
      "text/plain": [
       "'m-3m'"
      ]
     },
     "execution_count": 7,
     "metadata": {},
     "output_type": "execute_result"
    }
   ],
   "source": [
    "##Groupe ponctuel\n",
    "sga.get_point_group_symbol()"
   ]
  },
  {
   "cell_type": "code",
   "execution_count": null,
   "id": "528be04d",
   "metadata": {},
   "outputs": [],
   "source": []
  }
 ],
 "metadata": {
  "kernelspec": {
   "display_name": "Python 3",
   "language": "python",
   "name": "python3"
  },
  "language_info": {
   "codemirror_mode": {
    "name": "ipython",
    "version": 3
   },
   "file_extension": ".py",
   "mimetype": "text/x-python",
   "name": "python",
   "nbconvert_exporter": "python",
   "pygments_lexer": "ipython3",
   "version": "3.6.8"
  }
 },
 "nbformat": 4,
 "nbformat_minor": 5
}
