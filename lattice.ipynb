{
 "cells": [
  {
   "cell_type": "code",
   "execution_count": 1,
   "id": "c36d9c03",
   "metadata": {},
   "outputs": [],
   "source": [
    "from pymatgen.core import Lattice, Structure, Molecule\n",
    "from pymatgen.symmetry.analyzer import SpacegroupAnalyzer\n",
    "from pymatgen.ext.matproj import MPRester"
   ]
  },
  {
   "cell_type": "code",
   "execution_count": 2,
   "id": "0aa0e8c5",
   "metadata": {},
   "outputs": [],
   "source": [
    "with MPRester(\"V4zgRFcb4T97MTrH\") as m:\n",
    "    structure = m.get_structure_by_material_id(\"mp-867168\")\n",
    "sga = SpacegroupAnalyzer(structure) ##conventional\n"
   ]
  },
  {
   "cell_type": "code",
   "execution_count": 3,
   "id": "555ab757",
   "metadata": {},
   "outputs": [
    {
     "data": {
      "text/plain": [
       "Lattice\n",
       "    abc : 5.611844074442732 5.611844074442732 5.611844074442732\n",
       " angles : 59.99999999999999 59.99999999999999 59.99999999999999\n",
       " volume : 124.968854511472\n",
       "      A : 0.0 3.968173 3.968173\n",
       "      B : 3.968173 0.0 3.968173\n",
       "      C : 3.968173 3.968173 0.0"
      ]
     },
     "execution_count": 3,
     "metadata": {},
     "output_type": "execute_result"
    }
   ],
   "source": [
    "##Vecteurs de base du réseau direct\n",
    "structure.lattice"
   ]
  },
  {
   "cell_type": "code",
   "execution_count": 4,
   "id": "8222134d",
   "metadata": {},
   "outputs": [
    {
     "data": {
      "text/plain": [
       "Lattice\n",
       "    abc : 1.3712602985562001 1.3712602985562001 1.3712602985562006\n",
       " angles : 109.47122063449069 109.47122063449069 109.47122063449069\n",
       " volume : 1.984896272051752\n",
       "      A : -0.7916975025004687 0.7916975025004688 0.7916975025004688\n",
       "      B : 0.7916975025004688 -0.7916975025004687 0.7916975025004688\n",
       "      C : 0.791697502500469 0.791697502500469 -0.791697502500469"
      ]
     },
     "execution_count": 4,
     "metadata": {},
     "output_type": "execute_result"
    }
   ],
   "source": [
    "##Vecteurs de base du réseau réciproque\n",
    "structure.lattice.reciprocal_lattice"
   ]
  },
  {
   "cell_type": "code",
   "execution_count": 5,
   "id": "a7ff9c6f",
   "metadata": {},
   "outputs": [
    {
     "data": {
      "text/plain": [
       "'cubic'"
      ]
     },
     "execution_count": 5,
     "metadata": {},
     "output_type": "execute_result"
    }
   ],
   "source": [
    "##Type de maille\n",
    "sga.get_lattice_type()"
   ]
  },
  {
   "cell_type": "code",
   "execution_count": 6,
   "id": "dd4b6d29",
   "metadata": {},
   "outputs": [
    {
     "data": {
      "text/plain": [
       "'cubic'"
      ]
     },
     "execution_count": 6,
     "metadata": {},
     "output_type": "execute_result"
    }
   ],
   "source": [
    "##Système cristallin\n",
    "sga.get_crystal_system()"
   ]
  },
  {
   "cell_type": "code",
   "execution_count": 7,
   "id": "01abc2e7",
   "metadata": {},
   "outputs": [
    {
     "data": {
      "text/plain": [
       "'m-3m'"
      ]
     },
     "execution_count": 7,
     "metadata": {},
     "output_type": "execute_result"
    }
   ],
   "source": [
    "##Groupe ponctuel\n",
    "sga.get_point_group_symbol()"
   ]
  },
  {
   "cell_type": "code",
   "execution_count": null,
   "id": "528be04d",
   "metadata": {},
   "outputs": [],
   "source": []
  }
 ],
 "metadata": {
  "kernelspec": {
   "display_name": "Python 3",
   "language": "python",
   "name": "python3"
  },
  "language_info": {
   "codemirror_mode": {
    "name": "ipython",
    "version": 3
   },
   "file_extension": ".py",
   "mimetype": "text/x-python",
   "name": "python",
   "nbconvert_exporter": "python",
   "pygments_lexer": "ipython3",
   "version": "3.6.8"
  }
 },
 "nbformat": 4,
 "nbformat_minor": 5
}
