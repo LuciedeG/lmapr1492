{
 "cells": [
  {
   "cell_type": "markdown",
   "id": "0fa3b0ad",
   "metadata": {},
   "source": [
    "<br> <font size=7 color=#009999> <b> Tâche 5 - Lattice </b> <br><br>"
   ]
  },
  {
   "cell_type": "markdown",
   "id": "d7ec7e5b",
   "metadata": {},
   "source": [
    "<font size=6 color=#009999> <br> Imports <br> <br>"
   ]
  },
  {
   "cell_type": "code",
   "execution_count": 1,
   "id": "7ac8b4b6",
   "metadata": {},
   "outputs": [],
   "source": [
    "from pymatgen.core import Lattice, Structure, Molecule\n",
    "from pymatgen.symmetry.analyzer import SpacegroupAnalyzer\n",
    "from pymatgen.ext.matproj import MPRester"
   ]
  },
  {
   "cell_type": "markdown",
   "id": "4deb89dc",
   "metadata": {},
   "source": [
    "<font size=6 color=#009999> <br> Téléchargement du fichier CIF du matériau mp-867168 ($Sr_2SbAu$) <br> <br>"
   ]
  },
  {
   "cell_type": "code",
   "execution_count": 2,
   "id": "0aa0e8c5",
   "metadata": {},
   "outputs": [],
   "source": [
    "with MPRester(\"V4zgRFcb4T97MTrH\") as m:\n",
    "    structure = m.get_structure_by_material_id(\"mp-867168\")\n",
    "structure = structure.get_primitive_structure(tolerance=0.1)\n",
    "sga = SpacegroupAnalyzer(structure) \n"
   ]
  },
  {
   "cell_type": "markdown",
   "id": "d05a9789",
   "metadata": {},
   "source": [
    "<font size=6 color=#009999> <br> Description de la structure du $Sr_2SbAu$<br> <br>"
   ]
  },
  {
   "cell_type": "markdown",
   "id": "c3947ade",
   "metadata": {},
   "source": [
    "<font size=5 color=#009999> <br> 1. Vecteurs du réseau de base <br> <br>"
   ]
  },
  {
   "cell_type": "markdown",
   "id": "a8d1ccf7",
   "metadata": {},
   "source": [
    "Le réseau de base d'un matériau est défini par $3$ vecteurs de base indépendants tel que tout point du réseau peut s'écrire : $\\mathbf{R} = l \\mathbf{a} + m \\mathbf{b} + n \\mathbf{c}$ avec $l,m,n \\in \\mathbb{Z}$. Ces vecteurs définissent une maille primitive ou conventionnelle de la structure du matériau. "
   ]
  },
  {
   "cell_type": "code",
   "execution_count": 3,
   "id": "555ab757",
   "metadata": {},
   "outputs": [
    {
     "name": "stdout",
     "output_type": "stream",
     "text": [
      "Vecteur du réseau deS base  1 \n",
      "\n",
      "     Angle associé [degrés] :  59.99999999999999 \n",
      "\n",
      "     Norme:  5.611844074442732 \n",
      "\n",
      "     Norme selon la direction x :  0.0 \n",
      "\n",
      "     Norme selon la direction y :  3.968173 \n",
      "\n",
      "     Norme selon la direction z :  3.968173 \n",
      "\n",
      "Vecteur du réseau deS base  2 \n",
      "\n",
      "     Angle associé [degrés] :  59.99999999999999 \n",
      "\n",
      "     Norme:  5.611844074442732 \n",
      "\n",
      "     Norme selon la direction x :  3.968173 \n",
      "\n",
      "     Norme selon la direction y :  0.0 \n",
      "\n",
      "     Norme selon la direction z :  3.968173 \n",
      "\n",
      "Vecteur du réseau deS base  3 \n",
      "\n",
      "     Angle associé [degrés] :  59.99999999999999 \n",
      "\n",
      "     Norme:  5.611844074442732 \n",
      "\n",
      "     Norme selon la direction x :  3.968173 \n",
      "\n",
      "     Norme selon la direction y :  3.968173 \n",
      "\n",
      "     Norme selon la direction z :  0.0 \n",
      "\n",
      "Le volume total de la maille crée est de :  124.968854511472 . \n",
      "\n"
     ]
    }
   ],
   "source": [
    "lattice = structure.lattice\n",
    "vectorNorm = lattice.abc\n",
    "angles = lattice.angles\n",
    "volume = lattice.volume\n",
    "vectors = lattice.matrix\n",
    "\n",
    "for i in [0,1,2]:\n",
    "    print(\"Vecteur du réseau deS base \", i+1, \"\\n\")\n",
    "    print(\"     Angle associé [degrés] : \", angles[i], \"\\n\")\n",
    "    print(\"     Norme: \", vectorNorm[i], \"\\n\")\n",
    "    print(\"     Norme selon la direction x : \", vectors[i][0], \"\\n\")\n",
    "    print(\"     Norme selon la direction y : \", vectors[i][1], \"\\n\")\n",
    "    print(\"     Norme selon la direction z : \", vectors[i][2], \"\\n\")\n",
    "        \n",
    "print(\"Le volume total de la maille crée est de : \", volume, \". \\n\")"
   ]
  },
  {
   "cell_type": "markdown",
   "id": "d81412cb",
   "metadata": {},
   "source": [
    "Les informations affichées ci-dessus permet d'exprimer les vecteurs de base par : \n",
    "- $\\mathbf{a} = 3.968173 y + 3.968173 z$\n",
    "- $\\mathbf{b} = 3.968173 x + 3.968173 z$\n",
    "- $\\mathbf{c} = 3.968173 x + 3.968173 y$\n",
    "\n",
    "Les angles entre tous les vecteurs de base valent $\\alpha=\\beta=\\gamma = 60^\\circ$ et leur norme est de $|\\mathbf{a}|=|\\mathbf{b}|=|\\mathbf{c}|=5.61$."
   ]
  },
  {
   "cell_type": "markdown",
   "id": "160983e3",
   "metadata": {},
   "source": [
    "<font size=5 color=#009999> <br> 2. Vecteurs du réseau réciproque <br> <br>"
   ]
  },
  {
   "cell_type": "markdown",
   "id": "03fc0caa",
   "metadata": {},
   "source": [
    "Le réseau réciproque d'un matériau est défini par $3$ vecteurs de base indépendants tels que $e^{i\\mathbf{K}\\mathbf{R}}=1$ pour tout $\\mathbf{R}$ du réseau direct et tel que tout point du réseau peut s'écrire : $\\mathbf{K} = h \\mathbf{a^*} + k \\mathbf{b^*} + l \\mathbf{c^*}$ avec $h,k,l \\in \\mathbb{Z}$."
   ]
  },
  {
   "cell_type": "code",
   "execution_count": 4,
   "id": "8222134d",
   "metadata": {},
   "outputs": [
    {
     "name": "stdout",
     "output_type": "stream",
     "text": [
      "Vecteur du réseau réciproque  1 \n",
      "\n",
      "     Angle associé [degrés] :  109.47122063449069 \n",
      "\n",
      "     Norme:  1.3712602985562001 \n",
      "\n",
      "     Norme selon la direction x :  -0.7916975025004687 \n",
      "\n",
      "     Norme selon la direction y :  0.7916975025004688 \n",
      "\n",
      "     Norme selon la direction z :  0.7916975025004688 \n",
      "\n",
      "Vecteur du réseau réciproque  2 \n",
      "\n",
      "     Angle associé [degrés] :  109.47122063449069 \n",
      "\n",
      "     Norme:  1.3712602985562001 \n",
      "\n",
      "     Norme selon la direction x :  0.7916975025004688 \n",
      "\n",
      "     Norme selon la direction y :  -0.7916975025004687 \n",
      "\n",
      "     Norme selon la direction z :  0.7916975025004688 \n",
      "\n",
      "Vecteur du réseau réciproque  3 \n",
      "\n",
      "     Angle associé [degrés] :  109.47122063449069 \n",
      "\n",
      "     Norme:  1.3712602985562006 \n",
      "\n",
      "     Norme selon la direction x :  0.791697502500469 \n",
      "\n",
      "     Norme selon la direction y :  0.791697502500469 \n",
      "\n",
      "     Norme selon la direction z :  -0.791697502500469 \n",
      "\n",
      "Le volume total de la maille crée est de :  1.984896272051752 . \n",
      "\n"
     ]
    }
   ],
   "source": [
    "reciprocalLattice = structure.lattice.reciprocal_lattice\n",
    "reciprocalVectorNorm = reciprocalLattice.abc\n",
    "reciprocalAngles = reciprocalLattice.angles\n",
    "reciprocalVolume = reciprocalLattice.volume\n",
    "reciprocalVectors = reciprocalLattice.matrix\n",
    "\n",
    "for i in [0,1,2]:\n",
    "    print(\"Vecteur du réseau réciproque \", i+1, \"\\n\")\n",
    "    print(\"     Angle associé [degrés] : \", reciprocalAngles[i], \"\\n\")\n",
    "    print(\"     Norme: \", reciprocalVectorNorm[i], \"\\n\")\n",
    "    print(\"     Norme selon la direction x : \", reciprocalVectors[i][0], \"\\n\")\n",
    "    print(\"     Norme selon la direction y : \", reciprocalVectors[i][1], \"\\n\")\n",
    "    print(\"     Norme selon la direction z : \", reciprocalVectors[i][2], \"\\n\")\n",
    "        \n",
    "print(\"Le volume total de la maille crée est de : \", reciprocalVolume, \". \\n\")"
   ]
  },
  {
   "cell_type": "markdown",
   "id": "da48e1ae",
   "metadata": {},
   "source": [
    "Les informations affichées ci-dessus permet d'exprimer les vecteurs de base par : \n",
    "- $\\mathbf{a^*} = -0.791697 x + 0.791697 y + 0.791697 z$\n",
    "- $\\mathbf{b^*} = 0.791697 x - 0.791697 y + 0.791697 z$\n",
    "- $\\mathbf{c^*} = 0.791697 x + 0.791697 y - 0.791697 z$\n",
    "\n",
    "Les angles entre tous les vecteurs de base valent $\\alpha=\\beta=\\gamma = 109.471220^\\circ$ et leur norme est de $|\\mathbf{a^*}|=|\\mathbf{b^*}|=|\\mathbf{c^*}|=1.371260$"
   ]
  },
  {
   "cell_type": "markdown",
   "id": "5d8225b4",
   "metadata": {},
   "source": [
    "<font size=5 color=#009999> <br> 3. Type de maille <br> <br>"
   ]
  },
  {
   "cell_type": "code",
   "execution_count": 5,
   "id": "a7ff9c6f",
   "metadata": {},
   "outputs": [
    {
     "data": {
      "text/plain": [
       "'cubic'"
      ]
     },
     "execution_count": 5,
     "metadata": {},
     "output_type": "execute_result"
    }
   ],
   "source": [
    "sga.get_lattice_type()"
   ]
  },
  {
   "cell_type": "markdown",
   "id": "80c5aeae",
   "metadata": {},
   "source": [
    "Ceci signifie que le type de maille est cubique."
   ]
  },
  {
   "cell_type": "markdown",
   "id": "56391ca4",
   "metadata": {},
   "source": [
    "<font size=5 color=#009999> <br> 4. Système cristallin <br> <br>"
   ]
  },
  {
   "cell_type": "code",
   "execution_count": 6,
   "id": "dd4b6d29",
   "metadata": {},
   "outputs": [
    {
     "data": {
      "text/plain": [
       "'cubic'"
      ]
     },
     "execution_count": 6,
     "metadata": {},
     "output_type": "execute_result"
    }
   ],
   "source": [
    "sga.get_crystal_system()"
   ]
  },
  {
   "cell_type": "markdown",
   "id": "a4239829",
   "metadata": {},
   "source": [
    "Ceci signifie que le type de système cristallin est cubique."
   ]
  },
  {
   "cell_type": "markdown",
   "id": "4f131d8e",
   "metadata": {},
   "source": [
    "<font size=5 color=#009999> <br> 5. Groupe ponctuel <br> <br>"
   ]
  },
  {
   "cell_type": "code",
   "execution_count": 7,
   "id": "01abc2e7",
   "metadata": {},
   "outputs": [
    {
     "data": {
      "text/plain": [
       "'m-3m'"
      ]
     },
     "execution_count": 7,
     "metadata": {},
     "output_type": "execute_result"
    }
   ],
   "source": [
    "sga.get_point_group_symbol()"
   ]
  },
  {
   "cell_type": "markdown",
   "id": "95de1054",
   "metadata": {},
   "source": [
    "Ceci signifie que son groupe ponctuel est m-3m."
   ]
  }
 ],
 "metadata": {
  "kernelspec": {
   "display_name": "Python 3",
   "language": "python",
   "name": "python3"
  },
  "language_info": {
   "codemirror_mode": {
    "name": "ipython",
    "version": 3
   },
   "file_extension": ".py",
   "mimetype": "text/x-python",
   "name": "python",
   "nbconvert_exporter": "python",
   "pygments_lexer": "ipython3",
   "version": "3.6.8"
  }
 },
 "nbformat": 4,
 "nbformat_minor": 5
}
