{
 "cells": [
  {
   "cell_type": "markdown",
   "id": "81c91271",
   "metadata": {},
   "source": [
    "<br> <font size=7 color=#009999> <b> Tâche 4 - Download </b> <br><br>"
   ]
  },
  {
   "cell_type": "markdown",
   "id": "8d2e2ec6",
   "metadata": {},
   "source": [
    "<font size=6 color=#009999> <br> Imports <br> <br>"
   ]
  },
  {
   "cell_type": "code",
   "execution_count": 1,
   "id": "ecd3f507",
   "metadata": {},
   "outputs": [],
   "source": [
    "from pymatgen.core import Lattice, Structure, Molecule\n",
    "from pymatgen.symmetry.analyzer import SpacegroupAnalyzer\n",
    "from pymatgen.ext.matproj import MPRester"
   ]
  },
  {
   "cell_type": "markdown",
   "id": "25579aac",
   "metadata": {},
   "source": [
    "<font size=6 color=#009999> <br> Téléchargement du fichier CIF du matériau mp-867168 ($Sr_2SbAu$) <br> <br>"
   ]
  },
  {
   "cell_type": "code",
   "execution_count": 2,
   "id": "5f4f59bd",
   "metadata": {},
   "outputs": [],
   "source": [
    "with MPRester(\"V4zgRFcb4T97MTrH\") as m:\n",
    "    structure = m.get_structure_by_material_id(\"mp-867168\")\n",
    "sga = SpacegroupAnalyzer(structure)"
   ]
  },
  {
   "cell_type": "code",
   "execution_count": null,
   "id": "7be50d33",
   "metadata": {},
   "outputs": [],
   "source": []
  }
 ],
 "metadata": {
  "kernelspec": {
   "display_name": "Python 3",
   "language": "python",
   "name": "python3"
  },
  "language_info": {
   "codemirror_mode": {
    "name": "ipython",
    "version": 3
   },
   "file_extension": ".py",
   "mimetype": "text/x-python",
   "name": "python",
   "nbconvert_exporter": "python",
   "pygments_lexer": "ipython3",
   "version": "3.6.8"
  }
 },
 "nbformat": 4,
 "nbformat_minor": 5
}
